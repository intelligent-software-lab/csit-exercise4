{
  "cells": [
    {
      "cell_type": "markdown",
      "metadata": {
        "id": "GtI5N-0oownH"
      },
      "source": [
        "# 非線形なモデルとPreprocessing\n",
        "## 前回行ったこと\n",
        " - 交差検証\n",
        " - グリッドサーチによるハイパーパラメータチューニング"
      ]
    },
    {
      "cell_type": "markdown",
      "metadata": {
        "id": "ACAU6oNGownI"
      },
      "source": [
        "## 今回行うこと\n",
        "- 非線形なモデルを動かす\n",
        "- 特徴ベクトルに対する学習前の処理"
      ]
    },
    {
      "cell_type": "markdown",
      "metadata": {
        "id": "U9ASs3MWownI"
      },
      "source": [
        "## （復習）データの読み込み・特徴ベクトルの構築\n",
        "one-hotエンコーディングを用いた特徴ベクトルを再び作ります．\n",
        "もう詳しく説明することはしません．\n",
        "全て一つのセルにまとめました．\n",
        "詳細は前回の資料を参照してください．"
      ]
    },
    {
      "cell_type": "code",
      "execution_count": 1,
      "metadata": {
        "colab": {
          "base_uri": "https://localhost:8080/",
          "height": 0
        },
        "id": "9qh7kOl4ownI",
        "outputId": "1a2e809d-03b3-4101-dc70-f83199d96584"
      },
      "outputs": [
        {
          "output_type": "stream",
          "name": "stdout",
          "text": [
            "Mounted at /content/drive\n",
            "訓練データとテストデータの数を取得\n",
            "訓練データ数：12774，テストデータ数：5475\n",
            "[0.82 0.89 2.94 ... 1.92 1.86 0.92]\n"
          ]
        }
      ],
      "source": [
        "import numpy as np\n",
        "import pandas as pd \n",
        "\n",
        "# Colabの場合は以下のコメントアウト外す\n",
        "from google.colab import drive\n",
        "drive.mount('/content/drive') # google driveをマウント（＝Colabから使えるようにする）\n",
        "\n",
        "# Google Colabの場合\n",
        "d_train = pd.read_csv(\"drive/My Drive/data/train.csv\") # 訓練データを読み込む．\n",
        "d_test = pd.read_csv(\"drive/My Drive/data/test.csv\") # テストデータを読み込む．\n",
        "# Jupyter Note の場合\n",
        "#d_train = pd.read_csv(\"data/train.csv\") # 訓練データを読み込む\n",
        "#d_test = pd.read_csv(\"data/test.csv\") # テストデータを読み込む\n",
        "\n",
        "print(\"訓練データとテストデータの数を取得\")\n",
        "n_train = len(d_train)\n",
        "n_test = len(d_test)\n",
        "print(f\"訓練データ数：{n_train}，テストデータ数：{n_test}\")\n",
        "\n",
        "# targetの値\n",
        "y_train = d_train.pop('AveragePrice')\n",
        "y_train = y_train.values # numpyのarrayに変換\n",
        "print(y_train)\n",
        "\n",
        "# one-hot encoding\n",
        "d_train_test = pd.concat([d_train, d_test], axis=0) # 訓練とテストを連結\n",
        "columns_cat = [\"Date\", \"type\", \"region\"] # カテゴリカル変数の列名\n",
        "\n",
        "d_train_test_onehot = pd.get_dummies(d_train_test, columns=columns_cat) # get_dummiesを使ってone-hotエンコーディング\n",
        "d_train_onehot = d_train_test_onehot[:n_train] # d_train_test_onehotの訓練データ部分\n",
        "d_test_onehot = d_train_test_onehot[n_train:] # d_train_test_onehotのテストデータ部分\n",
        "X_train = d_train_onehot.values # np.arrayに変換\n",
        "X_test = d_test_onehot.values  # np.arrayに変換"
      ]
    },
    {
      "cell_type": "markdown",
      "metadata": {
        "id": "DHOBHi29ownJ"
      },
      "source": [
        "いい加減しつこい気もしますが，復習と予測結果の比較のために`LinearRegression`を動かしておきます．\n",
        "ハイパーパラメータ（学習するのではなく，ユーザが決める要素）はここでは`fit_intercept=False`，`normalize=False`とします．"
      ]
    },
    {
      "cell_type": "code",
      "execution_count": 2,
      "metadata": {
        "colab": {
          "base_uri": "https://localhost:8080/",
          "height": 0
        },
        "id": "EzEjFJD4ownK",
        "outputId": "9bab4bf4-c46f-4a93-e23f-66ed3ad60c43"
      },
      "outputs": [
        {
          "output_type": "stream",
          "name": "stdout",
          "text": [
            "[1.45846171 1.09892608 1.36405934 ... 1.50938008 1.97158574 1.20660234]\n"
          ]
        }
      ],
      "source": [
        "from sklearn.linear_model import LinearRegression # LinearRegressionを使えるようにする\n",
        "#lr = LinearRegression(fit_intercept=False, normalize=False) # インスタンスの作成 # (for version 0.18.2)\n",
        "lr = LinearRegression(fit_intercept=False) # インスタンスの作成 # (for version 1.2.2)\n",
        "lr.fit(X_train, y_train)\n",
        "y_pred_test_lr = lr.predict(X_test)\n",
        "print(y_pred_test_lr)"
      ]
    },
    {
      "cell_type": "markdown",
      "metadata": {
        "id": "dszKViM8ownK"
      },
      "source": [
        "## 非線形なモデルを動かす\n",
        "これまでは線形回帰とリッジ回帰を動かしてきました．\n",
        "これらはどちらもモデルとしては同じで，以下の式で表される線形モデルです：\n",
        "$$y(\\mathbf{x};\\mathbf{w}) = \\mathbf{w}^\\top \\mathbf{x},$$\n",
        "ここで$\\mathbf{w} \\in \\mathbb{R}^d$は学習する重みです（簡単のため，バイアス項（bias term）（あるいは切片（intercept））は無視します．\n",
        "\n",
        "線形モデルは予測モデルの中でも最も単純でわかりやすいものの一つです．\n",
        "しかし，現実の多くの問題はこの単純なモデルで説明することができないことが多いです．\n",
        "例えば，**全ての特徴の値が2倍になった時，線形モデルの予測の値も2倍**になりますが，この性質がどのような問題でも望ましいとは限りません．\n",
        "\n",
        "また，各特徴の要素に対して別々の重みを掛けてその結果を足しているだけで，**特徴同士の相互作用**のようなものを一切考えていません．\n",
        "アボカドの例ですと，例えば，「日付は日付」「場所は場所」で独立に考えています．\n",
        "したがって，線形モデルにおいて，日付がいつであろうとも場所ごとの傾向・バイアスは変わらず，同様にどの場所であろうとも日付ごと（正確には週ごと）の傾向・バイアスは変わりません．\n",
        "しかし，場所によって日付ごと（週ごと）の傾向は変わる可能性があります．\n",
        "例えば（あくまで例えばです），あるアボカドの栽培地域で何らかの天候に関連する災害・被害があったとき，その地域で生産されるアボカドを主に仕入先とする地域ではアボカドの値段に影響があると考えられますが，一方で，異なる地域で栽培されるアボカドを仕入先とする地域では影響を受けない（小さい），といったことがあるかもしれません．\n",
        "しかし，線形モデルではそのようなことを考慮することができません．\n",
        "\n",
        "そこで今回は**非線形なモデル**を使ってみることにします．\n",
        "今回はsklearnによって提供されている非線形なモデルの中から適当に選んで使ってみます．\n",
        "勿論，モデルの持つ非線形性が実際のデータとかけ離れていれば，（妥当なモデルと比べて）上手くいきません．\n",
        "また，非線形なモデルは表現能力（フィッティング能力）が高いことが多く，データが少ない場合は過学習を起こしてしまう可能性もあります．\n",
        "そのことに注意しながら使ってみましょう．"
      ]
    },
    {
      "cell_type": "markdown",
      "metadata": {
        "id": "Qy0ndvZAownK"
      },
      "source": [
        "### 多層パーセプトロン（Multi-layer perceptron，MLP）を動かす\n",
        "sklearnには多数の非線形なモデルが実装されています．\n",
        "今回はその中でも，[多層パーセプトロン（Multi-layer perceptron, MLP）](https://scikit-learn.org/stable/modules/generated/sklearn.neural_network.MLPRegressor.html#sklearn.neural_network.MLPRegressor)を動かしてみます．\n",
        "**MLPはニューラルネットワーク**の一種で，多層のニューラルネットワークの中では最もベーシックなものです．\n",
        "MLPは，数理的には，\n",
        "1. ベクトルに行列を掛ける\n",
        "2. 活性化関数と呼ばれる非線形な関数を噛ませる\n",
        "\n",
        "を繰り返したモデルです．\n",
        "MLPをノード（点）とエッジ（線）を用いてグラフィカルに表現すると，上の2つの演算を繰り返した回数だけ，入力と出力の間に「層」があるように見えます．\n",
        "そのため，上の2つの演算を行う回数を中間層（隠れ層）の数と言い，掛ける行列のことを中間層の重み（行列）と呼びます．\n",
        "中間層の重み行列がMLPの学習するパラメータで，**勾配法**と呼ばれる方法で学習を行います．\n",
        "勾配法（とくに，ここでは誤差関数の最小化を考えることにするので，勾配降下法）は，簡単に説明すると以下のような反復を行うアルゴリズムです：\n",
        "\n",
        "1. パラメータ$\\mathbf{\\Theta}$の初期値を定め，以下の2と3を収束するまで繰り返す．\n",
        "2. 最小化したい関数$L$に対するパラメータの勾配$\\nabla L(\\mathbf{\\Theta})$を計算する．ニューラルネットワークにおいては，この勾配の計算を**誤差逆伝播法（Backpropagation）**と呼ばれる方法で効率よく行う．\n",
        "3. 2で求めた勾配を使ってパラメータを少し動かす．最も単純な方法（＝厳密に単に勾配降下法と言った場合は）では以下のように動かす：\n",
        "    $$\\mathbf{\\Theta} \\leftarrow \\mathbf{\\Theta} - \\eta \\nabla L(\\mathbf{\\Theta}),$$\n",
        "ここで，$\\eta > 0$は学習率やステップサイズと呼ばれるハイパーパラメータで，一回の反復でどの程度パラメータを動かすかを表す．\n",
        "\n",
        "一応簡単に説明しましたが，これでは不十分・わかりにくいように思います．\n",
        "詳細は，例えば[scikit-learnの解説](https://scikit-learn.org/stable/modules/neural_networks_supervised.html#neural-networks-supervised)や，[授業で使っている教科書](https://www.microsoft.com/en-us/research/uploads/prod/2006/01/Bishop-Pattern-Recognition-and-Machine-Learning-2006.pdf)や，その他多数の書籍やWeb上の記事を参考にしてみてください（「人工知能」の授業で触れているのではないかとも思いますが）．\n",
        "\n",
        "では実際に使ってみます．\n",
        "まずはimportですが，回帰のためのMLPは`NLPRegressor`という名前で，`sklearn.neural_network`の中にあります．"
      ]
    },
    {
      "cell_type": "code",
      "execution_count": 3,
      "metadata": {
        "id": "L0rBqijfownL"
      },
      "outputs": [],
      "source": [
        "from sklearn.neural_network import MLPRegressor"
      ]
    },
    {
      "cell_type": "markdown",
      "metadata": {
        "id": "VTul_HCZownL"
      },
      "source": [
        "それではとりあえず，デフォルトのパラメータで使ってみましょう．\n",
        "デフォルト設定のモデルの評価（NOTチューニング）をするために，`cross_validate`をimportします．\n",
        "また，後のため，`GridSearchCV`もimportします．"
      ]
    },
    {
      "cell_type": "code",
      "execution_count": 4,
      "metadata": {
        "id": "dvIqLFh9ownL"
      },
      "outputs": [],
      "source": [
        "from sklearn.model_selection import cross_validate, GridSearchCV"
      ]
    },
    {
      "cell_type": "markdown",
      "metadata": {
        "id": "EdMKIVpdownL"
      },
      "source": [
        "前回と同様に，`cross_validate`で評価をしてみます．\n",
        "`cross_validate`には，学習・評価をしたいモデルとデータ，そして分割数とスコア関数（の名前）を与えるのでした．\n",
        "前回同様，分割数`cv=5`とし，スコア関数は`\"neg_mean_squared_error\"`とします．\n",
        "`cross_validate`を動かすと`scores`という辞書オブジェクトが返ってきます．\n",
        "`\"test_score\"`というキーで交差検証のスコアを取得できるのでした．\n",
        "5回のスコアとその平気を最後にprintします．\n",
        "結局，以下のようになります（前回のほぼコピペ）．"
      ]
    },
    {
      "cell_type": "code",
      "execution_count": 5,
      "metadata": {
        "colab": {
          "base_uri": "https://localhost:8080/",
          "height": 0
        },
        "id": "SZ8sK-aRownL",
        "outputId": "156058ed-3cd0-46e2-fd66-cae7a341742d"
      },
      "outputs": [
        {
          "output_type": "stream",
          "name": "stdout",
          "text": [
            "交差検証の5回のスコア：[2428556.55189476 2437270.10226427 6696847.29973979 3961379.5731151\n",
            " 1359706.3086477 ]\n",
            "交差検証の平均スコア：3376751.967132324\n"
          ]
        }
      ],
      "source": [
        "mlp = MLPRegressor()\n",
        "scores = cross_validate(mlp, X_train, y_train, cv=5, \n",
        "                        scoring=\"neg_mean_squared_error\")\n",
        "print(f\"交差検証の5回のスコア：{-scores['test_score']}\")\n",
        "print(f\"交差検証の平均スコア：{-np.mean(scores['test_score'])}\")"
      ]
    },
    {
      "cell_type": "markdown",
      "metadata": {
        "id": "TLAR2U7DownM"
      },
      "source": [
        "少し待った時間がかかった結果，**トンデモナイスコア**が返ってきました，何だこれ！？\n",
        "過学習にしてもひどいですね．\n",
        "\n",
        "ひどい過学習をしているのかなと思いつつ，一応，**訓練データに対するスコア**を確認してみます．\n",
        "「訓練データに対するスコアを参考にするな」と以前の資料では言ったように思いますが，訓練データに対するスコアは以下のように使うことができます：**訓練データに対するスコアも悪い場合，そもそも学習ができていない**ので，**プログラムの使い方を大きく間違っている**・**そもそもプログラムにバグがある**（今回は考えにくいですが，自身でコアのアルゴリズムを実装した場合はあり得ます）と言ったことを検出できます（つまり，**過学習以前の問題**が起こっている）．\n",
        "この場合，ドキュメントを注意深く読み直す必要があります．\n",
        "\n",
        "`cross_validate`では，`return_train_score`という引数を`True`にすることで，訓練時のスコアも取得できます．\n",
        "`train_score`というキーでアクセスできます（`cross_validate`は辞書型オブジェクトを返すのでしたね）．\n",
        "ちょっと面倒ですが，もう一度交差検証をしてみます．"
      ]
    },
    {
      "cell_type": "code",
      "execution_count": 6,
      "metadata": {
        "colab": {
          "base_uri": "https://localhost:8080/",
          "height": 0
        },
        "id": "sQMfz6BUownM",
        "outputId": "04050a59-7f84-431f-ae98-1469e500422c"
      },
      "outputs": [
        {
          "output_type": "stream",
          "name": "stdout",
          "text": [
            "交差検証の5回のスコア：[1579428.73858791 1830581.90675437 2903352.80369098 5923389.73865841\n",
            " 1440606.42097539]\n",
            "交差検証の平均スコア：2735471.921733411\n",
            "交差検証の5回の訓練スコア：[1373527.12387115  811904.347379   3685654.15286679 5144381.5583233\n",
            " 1121757.54528957]\n",
            "交差検証の平均訓練スコア：2427444.9455459635\n"
          ]
        }
      ],
      "source": [
        "mlp = MLPRegressor()\n",
        "scores = cross_validate(mlp, X_train, y_train, cv=5, \n",
        "                        scoring=\"neg_mean_squared_error\",\n",
        "                        return_train_score=True)\n",
        "print(f\"交差検証の5回のスコア：{-scores['test_score']}\")\n",
        "print(f\"交差検証の平均スコア：{-np.mean(scores['test_score'])}\")\n",
        "\n",
        "print(f\"交差検証の5回の訓練スコア：{-scores['train_score']}\")\n",
        "print(f\"交差検証の平均訓練スコア：{-np.mean(scores['train_score'])}\")"
      ]
    },
    {
      "cell_type": "markdown",
      "metadata": {
        "id": "Ui2g29XXownM"
      },
      "source": [
        "……ということで[ドキュメント](https://scikit-learn.org/stable/modules/generated/sklearn.neural_network.MLPRegressor.html#sklearn.neural_network.MLPRegressor)を読みに行きましょう．\n",
        "ハイパーパラメータの数に圧倒されるかもしれませんが，どうか諦めないでください．\n",
        "いくつかのパラメータに関して簡単に見ていきます．\n",
        "- `hidden_layer_sizes`：intのタプル（リストのようなもの），隠れ層（中間層）のユニット数．例えば，`(100, 50, 20)`を指定すると，中間層の数が3つで，入力に近い方から順に中間層のユニット数が100, 50, 20となる．中間層の数は「行列を掛ける」「活性化関数を噛ませる」回数に対応し，ユニット数は行列を掛けた後のベクトルの要素数に対応します．つまり，ネットワークの構造（深さと広さ）を定めるものです．\n",
        "- `activation`：string，活性化関数（行列を掛けた後に作用させる非線形な関数）．ここでは，\n",
        "  - `\"identity\"`：恒等関数（$g(x)=x$）\n",
        "  - `\"logistic\"`：ロジスティックシグモイド関数（$g(x)=1 / [1+\\exp (-x)]$）\n",
        "  - `\"tanh\"`：ハイパボリックタンジェント\n",
        "  - `\"relu\"`：ランプ関数（$g(x)= \\max (0, x)$)\n",
        "  \n",
        "  の4つを選択できる．デフォルトは`\"relu\"`．\n",
        "- `solver`：string，最適化手法．MLPは勾配法で最適化すると言いましたが，一口に勾配法と言っても実は色々あり，ここでは，\n",
        "  - `\"lbfgs\"`：準ニュートン法（quasi-newton method）と呼ばれる方法の一種．ヘッセ行列（＝二回微分）を近似し，上手く用いる．\n",
        "  - `\"sgd\"`：確率的勾配降下法（stochastic gradient descent, SGD），一回の反復に全てのデータではなく一部のデータのみを用いる．\n",
        "  - `\"adam\"`：SGDの一種で，勾配の使い方・ステップサイズに色々と工夫が施されている．\n",
        "  \n",
        "  の3つを指定できる．デフォルトは`\"adam\"`．\n",
        "- `alpha`：float，正則化項の強さ（Ridge回帰と同じ）．\n",
        "- `batch_size`：int， SGD・Adamにおいて，一回の反復で用いるデータの数．\n",
        "- `learning_rate_init`：float，初期学習率．デフォルトは`0.001`．\n",
        "- `max_iter`：int，最大反復回数．デフォルトは200.\n",
        "- `beta_1`, `beta_2`：float，`\"Adam\"`のハイパーパラメータ．"
      ]
    },
    {
      "cell_type": "markdown",
      "metadata": {
        "id": "ZD0CE7xnownM"
      },
      "source": [
        "ちょっと疲れたのでこの辺にしておきます．\n",
        "まず，最初の`hidden_layer_sizes`と`activation`は，ネットワークの構造を決めるものなので性能に直結しそうですね．\n",
        "また，最適化アルゴリズムの選択および最適化アルゴリズムのハイパーパラメータの選択も非常に重要です．\n",
        "ここではとりあえず，他のハイパーパラメータはそのままで，先程試した`\"relu\"`以外の活性化関数を用いて交差検証で評価してみましょう"
      ]
    },
    {
      "cell_type": "code",
      "execution_count": 7,
      "metadata": {
        "colab": {
          "base_uri": "https://localhost:8080/",
          "height": 0
        },
        "id": "EWCwhtP1ownM",
        "outputId": "d071c629-f175-49a4-889c-01e14826bf59"
      },
      "outputs": [
        {
          "output_type": "stream",
          "name": "stdout",
          "text": [
            "活性化関数：identity\n",
            "交差検証の5回のスコア：[2.93180654e+05 4.57948729e+05 1.52957472e+07 1.62899971e+09\n",
            " 4.54400713e+08]\n",
            "交差検証の平均スコア：419889460.5198989\n",
            "\n",
            "活性化関数：logistic\n",
            "交差検証の5回のスコア：[0.12132151 0.11985001 0.11872796 0.11958786 0.11616847]\n",
            "交差検証の平均スコア：0.11913116125734872\n",
            "\n",
            "活性化関数：tanh\n",
            "交差検証の5回のスコア：[0.12581647 0.12395895 0.12330236 0.12564067 0.1150507 ]\n",
            "交差検証の平均スコア：0.12275383051220053\n",
            "\n"
          ]
        }
      ],
      "source": [
        "for activation in [\"identity\", \"logistic\", \"tanh\"]:\n",
        "    print(f\"活性化関数：{activation}\")\n",
        "    mlp = MLPRegressor(activation=activation)\n",
        "    scores = cross_validate(mlp, X_train, y_train, cv=5, \n",
        "                            scoring=\"neg_mean_squared_error\")\n",
        "    print(f\"交差検証の5回のスコア：{-scores['test_score']}\")\n",
        "    print(f\"交差検証の平均スコア：{-np.mean(scores['test_score'])}\\n\")"
      ]
    },
    {
      "cell_type": "markdown",
      "metadata": {
        "id": "Bwet3-dcownM"
      },
      "source": [
        "結果が出てきました！\n",
        "まだお世辞にも良いとは言えませんが，**活性化関数が`\"logistic\"`・`\"tanh\"`のときは異常な結果にはならない**ということがわかりました．\n",
        "\n",
        "ここで，この4種類の活性化関数のグラフを作ってみます（横軸が入力で，縦軸が関数の値）．\n",
        "様々な可視化は次回行いますが，とりあえず以下のセルを動かすとグラフが出てきます．\n",
        "グラフの作り方についてもう少しきちんと知りたい方は，day6_matplotlib.ipynbを見る・matplotlibで調べる等してください．"
      ]
    },
    {
      "cell_type": "code",
      "execution_count": 8,
      "metadata": {
        "colab": {
          "base_uri": "https://localhost:8080/",
          "height": 430
        },
        "id": "DiqOB5JPownM",
        "outputId": "8f0c7ac2-a509-4c25-e3dc-8e8905ae8981"
      },
      "outputs": [
        {
          "output_type": "display_data",
          "data": {
            "text/plain": [
              "<Figure size 640x480 with 1 Axes>"
            ],
            "image/png": "[encoded data removed]"
          },
          "metadata": {}
        }
      ],
      "source": [
        "# jupyter lab/notebookの時のコマンド  (Google Colab でも同じ)\n",
        "%matplotlib inline\n",
        "import matplotlib.pyplot as plt\n",
        "x = 4*np.arange(100) / 100 - 2.0\n",
        "plt.plot(x, x, label=\"identity\") # identity\n",
        "plt.plot(x, 1.0 / (1.0 + np.exp(-x)), label=\"logistic\") # logistic\n",
        "plt.plot(x, np.tanh(x), label=\"tanh\") # tanh\n",
        "plt.plot(x, np.maximum(x, 0), label=\"relu\") # relu\n",
        "plt.legend(fontsize=12, loc='lower right')\n",
        "plt.show()"
      ]
    },
    {
      "cell_type": "markdown",
      "metadata": {
        "id": "nRr6cpGzownN"
      },
      "source": [
        "異常な結果となった`\"identity\"`と`\"relu\"`は非有界（=関数の値がどこまでも大きくなる or 小さくなる）ですが，（お世辞にも良い結果ではないですが）正常に働いた`\"logistic\"`と`\"tanh\"`は有界(前者は$(0, 1)$，後者は$(-1, 1)$)です．\n",
        "そのため，以下のようなことが起こっているのではないかと考えられます：**活性化関数に通す前の中間層の値が非常に大きくなってしまっているのではないか？**\n",
        "\n",
        "活性化関数に通す前の値は，「入力ベクトルと重み行列の積」によって計算されます．\n",
        "したがって，特徴ベクトルの値が大きい場合，中間層の値が非常に大きくなってしまう可能性があります．\n",
        "特徴ベクトルの値をちょっと思い出してみます．\n",
        "one-hotエンコーディングによって作られた部分は0か1でした．\n",
        "各サイズで売れた数を表す部分は，かなり大きな数字が入っていたような記憶があると思います．\n",
        "ちょっと見てみましょう．"
      ]
    },
    {
      "cell_type": "code",
      "execution_count": 9,
      "metadata": {
        "colab": {
          "base_uri": "https://localhost:8080/",
          "height": 0
        },
        "id": "grc5arCfownN",
        "outputId": "eb371a4b-0be1-4681-dae0-f93f229f67c4"
      },
      "outputs": [
        {
          "output_type": "stream",
          "name": "stdout",
          "text": [
            "       Unnamed: 0        Date        4046        4225       4770  Small Bags  \\\n",
            "0              32  2016-05-15  1134719.15   643464.88   95527.46   871562.92   \n",
            "1              43  2016-02-28  1873878.11  2020327.87  302210.56  2091747.51   \n",
            "2              15  2017-09-17      181.23      861.34       0.00      312.22   \n",
            "3              10  2018-01-14   628591.78   284087.44   15249.83   200603.91   \n",
            "4              14  2017-09-24        1.21      105.02       0.00    16555.36   \n",
            "...           ...         ...         ...         ...        ...         ...   \n",
            "12769          47  2015-02-01     1565.49     4210.72       0.00     1133.33   \n",
            "12770          46  2016-02-07     7720.21    22562.00      37.04    38739.27   \n",
            "12771          43  2015-03-01      386.65     5898.07       0.00      516.67   \n",
            "12772           9  2015-10-25      441.78     1817.74      15.61       72.11   \n",
            "12773          28  2015-06-14  3239258.39  2416002.43  112965.22   776961.13   \n",
            "\n",
            "       Large Bags  XLarge Bags          type              region  \n",
            "0       104146.00     17435.17  conventional          LosAngeles  \n",
            "1       282242.79     17870.86  conventional          California  \n",
            "2         1020.40         0.00       organic             Spokane  \n",
            "3       221593.36      4786.66  conventional       PhoenixTucson  \n",
            "4            0.00         0.00       organic  NorthernNewEngland  \n",
            "...           ...          ...           ...                 ...  \n",
            "12769      756.16         0.00       organic             Atlanta  \n",
            "12770    11885.39         0.00       organic          LosAngeles  \n",
            "12771      372.96         0.00       organic             Detroit  \n",
            "12772      907.40         0.00       organic        Philadelphia  \n",
            "12773   214729.56        84.95  conventional                West  \n",
            "\n",
            "[12774 rows x 10 columns]\n",
            "21620180.9\n"
          ]
        }
      ],
      "source": [
        "print(d_train)\n",
        "print(np.max(X_train))"
      ]
    },
    {
      "cell_type": "markdown",
      "metadata": {
        "id": "f3hij6WoownN"
      },
      "source": [
        "最大で8ケタの非常に大きな値が入っており，先程述べていたことが起こっている可能性が高そうに思えてきます．\n",
        "また，そもそも，特徴の値の最大値と最小値の範囲が，各特徴毎に大きく異なるというのは問題となることがあります．\n",
        "線形モデルの例を考えてみます．\n",
        "one-hotエンコーディングされたある特徴（たとえば，`\"region_LasVegas\"`）の重みを$w_j$，あるサイズとして売れた数（たとえば，`4046`）に関する重みを$w_i$とし，$w_j=w_i=0.01$であるとします．\n",
        "このとき，one-hotエンコーディングされたある特徴の重み$w_j=0.01$であることに大きな問題はなさそうです：$x_j$は最大でも$1$なので，$x_j=0$の場合と比較しても予測の値が$0.01$増えるだけです．\n",
        "一方で，売れた数に関する重み**$w_i=0.01$は問題が起こります**：$x_i$の値が，例えば上で出ている最大値`22743616.17`のとき，$x_i=0$の場合と比較して，**予測の値がおよそ227436も増えてしまいます**．\n",
        "つまり，各特徴に対応するパラメータ（上の例では，$w_j$や$w_i$）のスケールは，その特徴のスケールに応じて適切なものになってなければなりません．\n",
        "\n",
        "[sklearnのニューラルネットワークに関する解説](https://scikit-learn.org/stable/modules/neural_networks_supervised.html#tips-on-practical-use)を見てみましょう．\n",
        "次のように書いてあります：\n",
        "\n",
        "- \"Multi-layer Perceptron is sensitive to feature scaling, so it is highly recommended to scale your data. For example, scale each attribute on the input vector X to [0, 1] or [-1, +1], or standardize it to have mean 0 and variance 1. Note that you must apply the same scaling to the test set for meaningful results. You can use StandardScaler for standardization.\"\n",
        "\n",
        "ようするに，**MLPは特徴のスケールに影響を受けやすいので，そこらへんはどうにかしなさい（例えば，各特徴の値が$[0, 1]$や$[-1, 1]$の範囲に入るようにであったり，平均が0で分散が1になるようにしなさい）**と言っています．\n",
        "このように，学習アルゴリズムに入れる前に，特徴量に対して何らかの変換を施すことを**前処理（preprocessing）**と言います（one-hotエンコーディングも前処理の一部であると言えるでしょう）．"
      ]
    },
    {
      "cell_type": "markdown",
      "metadata": {
        "id": "24KPHNDDownN"
      },
      "source": [
        "## `sklearn.preprocessing`：sklearnの機能を使って特徴量のスケールを揃える\n",
        "\n",
        "さて，それでは上で言われているように，特徴ベクトルのスケールを揃えてみましょう．\n",
        "今回は各特徴量を`[0, 1]`の範囲に（=最小値が0で最大値が1になるように）スケーリングします．\n",
        "numpyの演算を使うことでも比較的簡単にできますが，ここではsklearnの機能を使うことにします．\n",
        "\n",
        "sklearnには`sklearn.preprocessing`というモジュールがあり，このモジュールの中に様々な前処理のための関数・クラスが用意されています．\n",
        "今回は，**最大値と最小値を揃えるスケーリング**を行いたいわけですが，これは`sklearn.preprocessing`の中の`MinMaxScaler`によって行うことができます．\n",
        "\n",
        "そこで，今回のQuizです．"
      ]
    },
    {
      "cell_type": "markdown",
      "metadata": {
        "id": "JBcCFfZKownN"
      },
      "source": [
        "### Quiz 1\n",
        "[MinMaxScaler](https://scikit-learn.org/stable/modules/generated/sklearn.preprocessing.MinMaxScaler.html#sklearn.preprocessing.MinMaxScaler)を使って，各特徴の値を[0,1]の範囲にスケーリングした訓練データ`X_train_scaled`を作成し，`X_train_scaled`を用いて`MLPRegressor()`の交差検証を行してください．"
      ]
    },
    {
      "cell_type": "code",
      "execution_count": null,
      "metadata": {
        "id": "AXlINLTrownN",
        "outputId": "e9ebc9fd-0c8d-4dee-9410-78c077640ecc"
      },
      "outputs": [
        {
          "name": "stdout",
          "output_type": "stream",
          "text": [
            "交差検証の5回のスコア：[0.03407623 0.03111196 0.03084854 0.02956114 0.03339093]\n",
            "交差検証の平均スコア：0.031797759577266514\n",
            "交差検証の5回の訓練スコア：[0.00243832 0.00273227 0.0021143  0.00203041 0.00230025]\n",
            "交差検証の平均訓練スコア：0.0023231097986461864\n"
          ]
        }
      ],
      "source": [
        "from sklearn.preprocessing import MinMaxScaler\n",
        "\n",
        "# 以下を埋める\n",
        "\n",
        "\n",
        "X_train_scaled =  # ここを埋める\n",
        "\n",
        "# モデルを作成し，交差検証で評価\n",
        "mlp = MLPRegressor()\n",
        "scores = cross_validate(mlp, X_train_scaled, y_train, cv=5, \n",
        "                        scoring=\"neg_mean_squared_error\",\n",
        "                        return_train_score=True)\n",
        "print(f\"交差検証の5回のスコア：{-scores['test_score']}\")\n",
        "print(f\"交差検証の平均スコア：{-np.mean(scores['test_score'])}\")\n",
        "\n",
        "print(f\"交差検証の5回の訓練スコア：{-scores['train_score']}\")\n",
        "print(f\"交差検証の平均訓練スコア：{-np.mean(scores['train_score'])}\")"
      ]
    },
    {
      "cell_type": "markdown",
      "metadata": {
        "id": "FSzGwRITownO"
      },
      "source": [
        "信じられないほど改善しました！\n",
        "しかもまだ細かい交差検証はしていませんから，更に性能の向上を見込めます．\n",
        "\n",
        "交差検証をして良いパラメータを定めてみましょう．\n",
        "前回の復習も兼ねて，続けてクイズです．"
      ]
    },
    {
      "cell_type": "markdown",
      "metadata": {
        "id": "KDrLAp59ownO"
      },
      "source": [
        "### Quiz 2\n",
        "`X_train_scaled`を訓練データの入力として，`MLPRegressor`のハイパーパラメータを`GridSearchCV`によってチューニングしてください．\n",
        "ここで，以下の2つのパラメータを次で示す範囲でチューニングすること：\n",
        "- `hidden_layer_sizes`：(1)中間層が一つでユニット数が100 (2)中間層が2つでユニット数がそれぞれ80\n",
        "- `activation`：(1) \"logistic\" (2) \"tanh\" (3) \"relu\"\n",
        "\n",
        "また，計算時間の削減のため反復数`max_iter`は100とし，乱数の初期SEEDを定める`random_state`は765としてください．交差検証の分割数は5，スコア関数は`\"neg_mean_squared_error\"`とすること．\n",
        "そして最後に，最も良かったハイパーパラメータの組と，その時の交差検証のスコアを`print`してください．\n",
        "その際に，交差検証のスコアは正負を反転させて平均二乗誤差にしてください．"
      ]
    },
    {
      "cell_type": "code",
      "execution_count": null,
      "metadata": {
        "id": "1Ey1s4KWownO",
        "outputId": "9548d5d0-4f0b-4692-b9c7-f0bc978c9c4d"
      },
      "outputs": [
        {
          "name": "stderr",
          "output_type": "stream",
          "text": [
            "/home/kyohei/.local/share/virtualenvs/pipenv3.8.1-zyzkCb9a/lib/python3.8/site-packages/sklearn/neural_network/_multilayer_perceptron.py:582: ConvergenceWarning: Stochastic Optimizer: Maximum iterations (100) reached and the optimization hasn't converged yet.\n",
            "  warnings.warn(\n",
            "/home/kyohei/.local/share/virtualenvs/pipenv3.8.1-zyzkCb9a/lib/python3.8/site-packages/sklearn/neural_network/_multilayer_perceptron.py:582: ConvergenceWarning: Stochastic Optimizer: Maximum iterations (100) reached and the optimization hasn't converged yet.\n",
            "  warnings.warn(\n",
            "/home/kyohei/.local/share/virtualenvs/pipenv3.8.1-zyzkCb9a/lib/python3.8/site-packages/sklearn/neural_network/_multilayer_perceptron.py:582: ConvergenceWarning: Stochastic Optimizer: Maximum iterations (100) reached and the optimization hasn't converged yet.\n",
            "  warnings.warn(\n",
            "/home/kyohei/.local/share/virtualenvs/pipenv3.8.1-zyzkCb9a/lib/python3.8/site-packages/sklearn/neural_network/_multilayer_perceptron.py:582: ConvergenceWarning: Stochastic Optimizer: Maximum iterations (100) reached and the optimization hasn't converged yet.\n",
            "  warnings.warn(\n",
            "/home/kyohei/.local/share/virtualenvs/pipenv3.8.1-zyzkCb9a/lib/python3.8/site-packages/sklearn/neural_network/_multilayer_perceptron.py:582: ConvergenceWarning: Stochastic Optimizer: Maximum iterations (100) reached and the optimization hasn't converged yet.\n",
            "  warnings.warn(\n"
          ]
        },
        {
          "name": "stdout",
          "output_type": "stream",
          "text": [
            "{'activation': 'tanh', 'hidden_layer_sizes': (80, 80)}\n",
            "0.024242445515821536\n"
          ]
        },
        {
          "name": "stderr",
          "output_type": "stream",
          "text": [
            "/home/kyohei/.local/share/virtualenvs/pipenv3.8.1-zyzkCb9a/lib/python3.8/site-packages/sklearn/neural_network/_multilayer_perceptron.py:582: ConvergenceWarning: Stochastic Optimizer: Maximum iterations (100) reached and the optimization hasn't converged yet.\n",
            "  warnings.warn(\n"
          ]
        }
      ],
      "source": [
        "mlp = # ここを埋める\n",
        "params_grid = {} # ここを埋める\n",
        "# 以下を埋める"
      ]
    },
    {
      "cell_type": "markdown",
      "metadata": {
        "id": "tqKoLiG9ownO"
      },
      "source": [
        "最も良かったハイパーパラメータとその時のスコアについて，TFの環境では以下の結果が得られました：\n",
        "\n",
        "`{'activation': 'tanh', 'hidden_layer_sizes': (80, 80)}`\n",
        "\n",
        "`0.024242445515821536`\n",
        "\n",
        "この結果で得られたベストなモデルを使って予測結果を提出すると良いかもしれません．\n",
        "その際，**テストデータの変換を行うのを忘れる・変換の仕方を誤る**と，ひどいスコアとなってしまうためご注意ください．\n",
        "なお，上のチューニングはかなり粗く・雑に行っているので，より丁寧に行うことでより良いスコアが出る可能性は高いです．"
      ]
    },
    {
      "cell_type": "markdown",
      "metadata": {
        "id": "2qKMNCZ4ownP"
      },
      "source": [
        "## まとめ\n",
        "- 多層パーセプトロン（MLP)：ニューラルネットワークの一種．（非線形な活性化関数を使った場合）非線形なモデルで，特徴ベクトルのスケールに影響を強く受ける．\n",
        "- 前処理のための関数やクラスは`sklearn.preprocessing`にある．最大値と最小値のスケーリングは`MinMaxScaler`で行うことができる．\n",
        "\n",
        "今回用いた`MinMaxScaler`以外にも前処理のクラス・関数は多数あるので，それらについても調べてみる・使ってみると良いかもしれません．\n",
        "また，具体的に名前を列挙することはしませんが，非線形なモデルは`MLPRegressor`以外にも多数あります．\n",
        "その中には，特徴ベクトルのスケールの影響を受けにくく，使いやすいモデルもあります．\n",
        "また，興味深いことに，カテゴリカル変数をそのまま扱える手法もあります（残念ながらsklearnの実装ではそうなっておらず，その手法に特化したライブラリを使う必要がありますが）．\n",
        "「どのような特徴を作るか」「どのような変換を施すか」「どのようなモデルを使うか」「どのようなハイパーパラメータにするか」を考えると，できることは山ほどあるので，是非色々試してみてください．\n",
        "\n",
        "さらに，ここ10年弱の深層学習ブームにより，ニューラルネットワークのライブラリが多数開発されています．\n",
        "それらを用いることでより自由に・柔軟にニューラルネットワークを（MLPを）構築することができます．\n",
        "それらについても興味があれば調べてみると良いかもしれません．\n",
        "\n",
        "今回は，予測モデルを構築する前の処理として，スケーリングを取り上げました．\n",
        "それ以外にも，例えば\n",
        "- 特徴選択（feature selection）：元の特徴量からいくつかの特徴量を選ぶ (特徴選択で作られた低次元ベクトルは，元の特徴ベクトルの部分ベクトル)\n",
        "- 特徴抽出（feature extraction)：元の特徴量を用いて新しく（低次元の）特徴量を作り出す(元の特徴ベクトルの部分ベクトルとは限らない）\n",
        "\n",
        "等の処理を行うと，性能が向上することもあります．\n",
        "これらはsklearnでは[sklearn.feature_selection](https://scikit-learn.org/stable/modules/classes.html#module-sklearn.feature_selection)や[sklearn.decomposition](https://scikit-learn.org/stable/modules/classes.html#module-sklearn.decomposition)に実装されています．\n",
        "余裕がある方は試してみると良いかもしれません．"
      ]
    },
    {
      "cell_type": "code",
      "execution_count": null,
      "metadata": {
        "id": "1JRasstHownP"
      },
      "outputs": [],
      "source": []
    },
    {
      "cell_type": "code",
      "execution_count": null,
      "metadata": {
        "id": "UBREv8RnownP"
      },
      "outputs": [],
      "source": []
    },
    {
      "cell_type": "code",
      "execution_count": null,
      "metadata": {
        "id": "nEfYX5P3ownP"
      },
      "outputs": [],
      "source": []
    },
    {
      "cell_type": "markdown",
      "metadata": {
        "id": "w_8T1ykJownP"
      },
      "source": [
        "### Quiz 1"
      ]
    },
    {
      "cell_type": "markdown",
      "metadata": {
        "id": "2bvO_3CsownP"
      },
      "source": [
        "`from sklearn.preprocessing import MinMaxScaler`で使えるようになります．\n",
        "`MinMaxScaler`は，標準では[0,1]にスケーリングするため，特に引数の設定をすることなくインスタンスを作成します．\n",
        "ドキュメントを読んでみると分かりますが，`fit`メソッドで各特徴量の最大値と最小値を計算し，`transform`メソッドで変換を施した行列を返します．\n",
        "そのため，以下のようになります．"
      ]
    },
    {
      "cell_type": "code",
      "execution_count": 10,
      "metadata": {
        "colab": {
          "base_uri": "https://localhost:8080/",
          "height": 0
        },
        "id": "rGD5Vw4ZownP",
        "outputId": "6f305b67-db12-4e00-d3cc-0e66f80881f8"
      },
      "outputs": [
        {
          "output_type": "stream",
          "name": "stdout",
          "text": [
            "交差検証の5回のスコア：[0.02937226 0.02877923 0.03403344 0.03453819 0.03216071]\n",
            "交差検証の平均スコア：0.03177676801690194\n",
            "交差検証の5回の訓練スコア：[0.00210078 0.00263478 0.0020562  0.00174318 0.00176573]\n",
            "交差検証の平均訓練スコア：0.0020601333479285016\n"
          ]
        }
      ],
      "source": [
        "from sklearn.preprocessing import MinMaxScaler\n",
        "\n",
        "# 以下を埋める\n",
        "scaler = MinMaxScaler()\n",
        "scaler.fit(X_train)\n",
        "X_train_scaled = scaler.transform(X_train) # ここを埋める\n",
        "\n",
        "# モデルを作成し，交差検証で評価\n",
        "mlp = MLPRegressor()\n",
        "scores = cross_validate(mlp, X_train_scaled, y_train, cv=5, \n",
        "                        scoring=\"neg_mean_squared_error\",\n",
        "                        return_train_score=True)\n",
        "print(f\"交差検証の5回のスコア：{-scores['test_score']}\")\n",
        "print(f\"交差検証の平均スコア：{-np.mean(scores['test_score'])}\")\n",
        "\n",
        "print(f\"交差検証の5回の訓練スコア：{-scores['train_score']}\")\n",
        "print(f\"交差検証の平均訓練スコア：{-np.mean(scores['train_score'])}\")"
      ]
    },
    {
      "cell_type": "code",
      "execution_count": null,
      "metadata": {
        "id": "sHLtIbDLownP"
      },
      "outputs": [],
      "source": []
    },
    {
      "cell_type": "code",
      "execution_count": null,
      "metadata": {
        "id": "hxdO7vWoownP"
      },
      "outputs": [],
      "source": []
    },
    {
      "cell_type": "markdown",
      "metadata": {
        "id": "UsYgQ5CgownP"
      },
      "source": [
        "### Quiz 2"
      ]
    },
    {
      "cell_type": "code",
      "execution_count": 11,
      "metadata": {
        "colab": {
          "base_uri": "https://localhost:8080/",
          "height": 0
        },
        "id": "n21LzxI_ownQ",
        "outputId": "b8bf67af-7090-459b-efe7-84148b44d547"
      },
      "outputs": [
        {
          "output_type": "stream",
          "name": "stderr",
          "text": [
            "/usr/local/lib/python3.10/dist-packages/sklearn/neural_network/_multilayer_perceptron.py:686: ConvergenceWarning: Stochastic Optimizer: Maximum iterations (100) reached and the optimization hasn't converged yet.\n",
            "  warnings.warn(\n",
            "/usr/local/lib/python3.10/dist-packages/sklearn/neural_network/_multilayer_perceptron.py:686: ConvergenceWarning: Stochastic Optimizer: Maximum iterations (100) reached and the optimization hasn't converged yet.\n",
            "  warnings.warn(\n",
            "/usr/local/lib/python3.10/dist-packages/sklearn/neural_network/_multilayer_perceptron.py:686: ConvergenceWarning: Stochastic Optimizer: Maximum iterations (100) reached and the optimization hasn't converged yet.\n",
            "  warnings.warn(\n",
            "/usr/local/lib/python3.10/dist-packages/sklearn/neural_network/_multilayer_perceptron.py:686: ConvergenceWarning: Stochastic Optimizer: Maximum iterations (100) reached and the optimization hasn't converged yet.\n",
            "  warnings.warn(\n",
            "/usr/local/lib/python3.10/dist-packages/sklearn/neural_network/_multilayer_perceptron.py:686: ConvergenceWarning: Stochastic Optimizer: Maximum iterations (100) reached and the optimization hasn't converged yet.\n",
            "  warnings.warn(\n"
          ]
        },
        {
          "output_type": "stream",
          "name": "stdout",
          "text": [
            "{'activation': 'tanh', 'hidden_layer_sizes': (80, 80)}\n",
            "0.02372183075190732\n"
          ]
        },
        {
          "output_type": "stream",
          "name": "stderr",
          "text": [
            "/usr/local/lib/python3.10/dist-packages/sklearn/neural_network/_multilayer_perceptron.py:686: ConvergenceWarning: Stochastic Optimizer: Maximum iterations (100) reached and the optimization hasn't converged yet.\n",
            "  warnings.warn(\n"
          ]
        }
      ],
      "source": [
        "mlp = MLPRegressor(max_iter=100, random_state=765) # ここを埋める\n",
        "params_grid = {\n",
        "    \"hidden_layer_sizes\": [(100, ), (80, 80)],\n",
        "    \"activation\": [\"logistic\", \"tanh\", \"relu\"],} # ここを埋める\n",
        "# 以下を埋める\n",
        "cv = GridSearchCV(mlp, param_grid=params_grid, cv=5, scoring=\"neg_mean_squared_error\") # \n",
        "cv.fit(X_train_scaled, y_train)\n",
        "print(cv.best_params_) # 最も良かったハイパーパラメータを見てみる\n",
        "print(-cv.best_score_) # 最も良かったハイパーパラメータの時のスコアを見てみる．わかりやすさのため符号は反転する．"
      ]
    },
    {
      "cell_type": "code",
      "execution_count": null,
      "metadata": {
        "id": "MxjOcYonownQ"
      },
      "outputs": [],
      "source": []
    }
  ],
  "metadata": {
    "kernelspec": {
      "display_name": "Python 3",
      "language": "python",
      "name": "python3"
    },
    "language_info": {
      "codemirror_mode": {
        "name": "ipython",
        "version": 3
      },
      "file_extension": ".py",
      "mimetype": "text/x-python",
      "name": "python",
      "nbconvert_exporter": "python",
      "pygments_lexer": "ipython3",
      "version": "3.8.5"
    },
    "colab": {
      "provenance": []
    }
  },
  "nbformat": 4,
  "nbformat_minor": 0
}