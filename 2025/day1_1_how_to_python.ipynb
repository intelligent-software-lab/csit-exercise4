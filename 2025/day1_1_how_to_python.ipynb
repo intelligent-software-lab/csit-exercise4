{
 "cells": [
  {
   "cell_type": "markdown",
   "metadata": {},
   "source": [
    "# 1. Python入門\n",
    "この資料は[Python3のドキュメント](https://docs.python.org/ja/3/index.html)に基づいています．また，この資料はPythonの基本的な使い方のうち，本演習で用いる可能性の高いもののみを紹介しています．\n",
    "\n",
    "わからないことがあったらWeb上にたくさん情報があるので調べてみてください．"
   ]
  },
  {
   "cell_type": "markdown",
   "metadata": {
    "toc-hr-collapsed": false
   },
   "source": [
    "\n",
    "## 1.1 Pythonとは\n",
    "Python（パイソン）は，汎用のプログラミング言語で，コードがシンプルで扱いやすく書けるように設計されており，C言語などに比べてさまざまなプログラムを分かりやすく，少ないコード行数で書けるといった特徴があります．標準のライブラリのほか，様々な領域に特化したサードパーティ製のライブラリ・ツール群が入手可能であり，使用目的に応じ自由に機能を拡張していくことができます．Pythonの適用範囲は，Webアプリケーションやデスクトップアプリケーションなどの開発はもとより，システム用の記述 (script) や，各種の自動処理，理工学や統計・解析など，幅広い領域に及んでいます．\n",
    "\n",
    "Pythonはインタプリタ上で実行することを前提に設計されています．\n",
    "\n",
    "### 1.1.1 インタプリタ\n",
    "\n",
    "Pythonにおけるインタプリタとは，ソースコードを何らかの中間表現に逐次変換しながら，実行するプログラム言語処理系のことです．\n",
    "コンパイル方式はソースコードを機械語等で記述されたファイルに翻訳してから実行しますが，それとは異なり，インタプリタはソースコードをそのまま解釈・実行します．\n",
    "\n",
    "Pythonのインタプリタを使ってみましょう．コマンドプロンプト（端末）を新たに起動して（このノートブックを起動した際のコマンドプロンプトを落とさないように！）次のようにPythonインタプリタを起動します．\n",
    "\n",
    "```Python\n",
    "$ python3\n",
    "```\n",
    "\n",
    "すると細部は違うかもしれませんが，以下のような出力が得られれば，無事Pythonのインタプリタが起動できています．\n",
    "\n",
    "```Python\n",
    "Python 3.8.10 (default, Mar 15 2022, 12:22:08) \n",
    "[GCC 9.4.0] on linux\n",
    "Type \"help\", \"copyright\", \"credits\" or \"license\" for more information.\n",
    ">>> \n",
    "```\n",
    "\n",
    "インタプリタはコマンドプロンプトから対話的に使うことができます．`Hello World!`を`print`文で出力してみましょう．\n",
    "\n",
    "```Python\n",
    ">>> print('Hello World!')\n",
    "Hello World!\n",
    "```\n",
    "\n",
    "簡単な四則演算を行うことも可能です．\n",
    "\n",
    "```Python\n",
    ">>>  (6 * (3**2) - 5*6) / 4\n",
    "6.0 \n",
    "```  \n",
    "\n",
    "```Python\n",
    ">>> 1.1 * 2 - 3\n",
    "-0.7999999999999998\n",
    "```  \n",
    "\n",
    "インタプリタの対話モードを終了するには`exit()`， `quit()`を入力，またはctrl+Dです．\n",
    "\n",
    "スクリプトが書かれたファイル`hoge.py`をインタプリタで実行するには\n",
    "\n",
    "```Python\n",
    "$ python3 hoge.py\n",
    "```\n",
    "\n",
    "とします．\n",
    "\n",
    "\n",
    "### 1.1.2 Jupyter Notebookとは\n",
    "この演習ではJupyter NotebookというPythonのブラウザ上での実行環境を使います．Jupyter NotebookとはPythonのコマンドラインでの対話モードを拡張したものです．コードの出力結果やメモ等を記録しておくことができ（変数や関数を複数のセルに渡って使用することができます），機械学習・データサイエンスのツールとしてよく使われています．\n",
    "\n",
    "演習の説明とサンプルコード・実行環境をまとめて用意できるので，配布資料はJupyter Notebookで書かれています．\n",
    "\n",
    "ではJupyter Notebookで`print`文や四則演算を実行してみましょう．**上の実行ボタン（Run）またはshift+enterで実行できます．**"
   ]
  },
  {
   "cell_type": "markdown",
   "metadata": {},
   "source": [
    "`print`文の例"
   ]
  },
  {
   "cell_type": "code",
   "execution_count": null,
   "metadata": {},
   "outputs": [],
   "source": [
    "# print文サンプル\n",
    "print('Hello World!')"
   ]
  },
  {
   "cell_type": "markdown",
   "metadata": {},
   "source": [
    "四則演算の例"
   ]
  },
  {
   "cell_type": "code",
   "execution_count": null,
   "metadata": {},
   "outputs": [],
   "source": [
    "(6 * (3**2) - 5*6) / 4"
   ]
  },
  {
   "cell_type": "code",
   "execution_count": null,
   "metadata": {},
   "outputs": [],
   "source": [
    "2022 % 22"
   ]
  },
  {
   "cell_type": "markdown",
   "metadata": {},
   "source": [
    "最後に実行した分の結果は，`print`文を使わない場合も表示されます．\n",
    "下の例では，1行目の結果が出力されず，2行目の結果が出力されます．"
   ]
  },
  {
   "cell_type": "code",
   "execution_count": null,
   "metadata": {},
   "outputs": [],
   "source": [
    "(6 * (3**2) - 5*6) / 4\n",
    "2022 % 22"
   ]
  },
  {
   "cell_type": "markdown",
   "metadata": {},
   "source": [
    "このようにJupyter Notebookでは，ソースコードをセルに記述して実行します．課題に取り組む際は，新たにJupyter Notebookファイルを作り，そこにソースコードを記述し，実行していくことになります．\n",
    "新たなJupyter Notebookファイルの作成は，画面左側のメニューの，左上の「+」によって行えます（Google Colabを用いている場合）．\n",
    "\n",
    "では，実際に手を（セルを）動かしながらPythonについて学んでいきましょう．"
   ]
  },
  {
   "cell_type": "markdown",
   "metadata": {
    "toc-hr-collapsed": true
   },
   "source": [
    "## 1.2 変数"
   ]
  },
  {
   "cell_type": "markdown",
   "metadata": {
    "toc-hr-collapsed": true
   },
   "source": [
    "### 1.2.1 数値型\n",
    "整数は`int`型，小数部を持つ数は`float`型です．"
   ]
  },
  {
   "cell_type": "markdown",
   "metadata": {},
   "source": [
    "以下のコードでは，`print`関数を用いて変数`c`，`y`の値と型を出力しています．"
   ]
  },
  {
   "cell_type": "code",
   "execution_count": null,
   "metadata": {},
   "outputs": [],
   "source": [
    "a = 1\n",
    "b = 2\n",
    "c = a + b\n",
    "print(c)\n",
    "print(type(c))"
   ]
  },
  {
   "cell_type": "code",
   "execution_count": null,
   "metadata": {},
   "outputs": [],
   "source": [
    "x = 0.1\n",
    "y = a * x + b\n",
    "print(y)\n",
    "print(type(y))"
   ]
  },
  {
   "cell_type": "markdown",
   "metadata": {},
   "source": [
    "変数の型のキャスト（変換）は以下のように行います．"
   ]
  },
  {
   "cell_type": "code",
   "execution_count": null,
   "metadata": {},
   "outputs": [],
   "source": [
    "x = 1.1\n",
    "print(type(x)) # float型\n",
    "y = int(x)\n",
    "print(y)\n",
    "print(type(y)) # int型"
   ]
  },
  {
   "cell_type": "markdown",
   "metadata": {},
   "source": [
    "Pythonは**動的型付け**です．つまり変数の型が実行中に動的に変化します．あらかじめ変数の型を宣言する必要はなく，また変数に現在の型とは異なる値を代入することができます．"
   ]
  },
  {
   "cell_type": "code",
   "execution_count": null,
   "metadata": {},
   "outputs": [],
   "source": [
    "a = 2\n",
    "b = 1\n",
    "x = 0.5\n",
    "y = a * x + b\n",
    "print(y)\n",
    "print(type(y)) # float型\n",
    "\n",
    "x = 10\n",
    "y = a * x + b\n",
    "print(y)\n",
    "print(type(y)) # int型"
   ]
  },
  {
   "cell_type": "markdown",
   "metadata": {},
   "source": [
    "### 1.2.2 リスト\n",
    "Pythonには複数の値をまとめるデータ構造が色々と用意されています．最も汎用性が高いのは リスト (list) で，コンマ区切りの値 (要素) の並びを角括弧で囲んだものとして書き表されます．リストは異なる型の要素を含むこともありますが，通常は同じ型の要素のみを持ちます．"
   ]
  },
  {
   "cell_type": "code",
   "execution_count": null,
   "metadata": {},
   "outputs": [],
   "source": [
    "sequence = [1, 4, 9, 16, 25, 36, 49]\n",
    "print(sequence[2])\n",
    "\n",
    "# 異なる型の要素を含む\n",
    "hetero_seq  = [1, 4, 'nine', 16.0, 25] # 'nine'は文字列型（後述）\n",
    "print(hetero_seq[2])\n",
    "print(type(hetero_seq[2]))"
   ]
  },
  {
   "cell_type": "markdown",
   "metadata": {},
   "source": [
    "C言語の配列と異なり，Pythonのリストは要素に柔軟にアクセスすることが可能です．`:`を用いたアクセスはスライスと呼ばれ，リストを返します．"
   ]
  },
  {
   "cell_type": "code",
   "execution_count": null,
   "metadata": {},
   "outputs": [],
   "source": [
    "# 先頭の3つの要素 / インデックスが0から2の要素\n",
    "print(sequence[:3])\n",
    "print(sequence[0:3])\n",
    "\n",
    "# インデックスが2から4の要素\n",
    "print(sequence[2:5])\n",
    "\n",
    "# インデックスが3の要素から末尾まで\n",
    "print(sequence[3:])\n",
    "\n",
    "# - (マイナス)を付けると後ろから数える\n",
    "# 末尾の要素\n",
    "# スライスではないので要素の値を返す\n",
    "print(sequence[-1])\n",
    "# 後ろから3番目の要素から末尾まで\n",
    "print(sequence[-3:])\n",
    "\n",
    "# インデックスが2の要素から末尾の一つ前まで\n",
    "print(sequence[2:-1])\n",
    "\n",
    "# インデックスが0から5まで，2つごとにアクセス\n",
    "print(sequence[0:5:2])\n",
    "\n",
    "# 逆順に表示\n",
    "print(sequence[::-1])"
   ]
  },
  {
   "cell_type": "markdown",
   "metadata": {},
   "source": [
    "リストの要素の変更は次のようにできます．"
   ]
  },
  {
   "cell_type": "code",
   "execution_count": null,
   "metadata": {},
   "outputs": [],
   "source": [
    "sequence[6] = 329\n",
    "print(sequence)\n",
    "\n",
    "sequence[2:5] = [27, 64, 125]\n",
    "print(sequence)"
   ]
  },
  {
   "cell_type": "markdown",
   "metadata": {},
   "source": [
    "リストは次のように連結することができます．"
   ]
  },
  {
   "cell_type": "code",
   "execution_count": null,
   "metadata": {},
   "outputs": [],
   "source": [
    "seq1 = [1, 4, 9]\n",
    "seq2 = [16, 25]\n",
    "seq3 = seq1 + seq2\n",
    "seq3"
   ]
  },
  {
   "cell_type": "markdown",
   "metadata": {},
   "source": [
    "`len()`関数でリストの長さが得られます．"
   ]
  },
  {
   "cell_type": "code",
   "execution_count": null,
   "metadata": {},
   "outputs": [],
   "source": [
    "len(seq3)"
   ]
  },
  {
   "cell_type": "markdown",
   "metadata": {},
   "source": [
    "リストには次のようにいくつかのメソッドが用意されています．ここでは全てを紹介しないので，詳しくは\n",
    "[リスト型に関するPythonチュートリアル](https://docs.python.org/ja/3/tutorial/datastructures.html#more-on-lists)\n",
    "を参照してください．"
   ]
  },
  {
   "cell_type": "code",
   "execution_count": null,
   "metadata": {},
   "outputs": [],
   "source": [
    "# リストの末尾に値を追加する\n",
    "seq1.append(16)\n",
    "print(seq1)\n",
    "\n",
    "# リストの指定した要素を削除し，その値を返す\n",
    "# pop()は末尾の値\n",
    "val = seq1.pop(2)\n",
    "print(val)"
   ]
  },
  {
   "cell_type": "markdown",
   "metadata": {},
   "source": [
    "#### リストを扱う際の注意（やや発展的）\n",
    "リストを扱う上で注意しなければならない点があります．典型的な例を示します．"
   ]
  },
  {
   "cell_type": "code",
   "execution_count": null,
   "metadata": {},
   "outputs": [],
   "source": [
    "a = [1, 2, 3]\n",
    "b = a\n",
    "b[0] = 0"
   ]
  },
  {
   "cell_type": "markdown",
   "metadata": {},
   "source": [
    "ここで`print(a)`でリスト`a`の要素を確認しましょう．直感的には`[1, 2, 3]`が出力されると期待しますが，"
   ]
  },
  {
   "cell_type": "code",
   "execution_count": null,
   "metadata": {},
   "outputs": [],
   "source": [
    "print(a)"
   ]
  },
  {
   "cell_type": "markdown",
   "metadata": {},
   "source": [
    "実際には`[0, 2, 3]`が出力されます．これはリスト`b`の要素なはずです．\n",
    "\n",
    "なぜこのような現象が起きるのかというと，`b = a`の代入文で，`a`の識別値を代入しているからです．識別値とはC言語でいうところのポインタで，Pythonの全てのオブジェクトは識別値を持っています．識別値は`id()`を使って確認できます．"
   ]
  },
  {
   "cell_type": "code",
   "execution_count": null,
   "metadata": {},
   "outputs": [],
   "source": [
    "print(id(a))\n",
    "print(id(b))"
   ]
  },
  {
   "cell_type": "markdown",
   "metadata": {},
   "source": [
    "変数`a` `b`が同じ識別値を持っているのが確認できました．\n",
    "C言語でいう「ポインタ渡し」のようになっていると理解できます：つまり，変数が表すオブジェクトがコピーされて渡されているのではなく，変数が表すオブジェクトへのポインタが渡されています．\n",
    "実はPythonでは，**リストに限らず変数への代入は値渡しではなくポインタ渡しで行われます．**\n",
    "以下の例がそれを示しています．"
   ]
  },
  {
   "cell_type": "code",
   "execution_count": null,
   "metadata": {},
   "outputs": [],
   "source": [
    "c = 123\n",
    "d = c\n",
    "print(id(c))\n",
    "print(id(d))"
   ]
  },
  {
   "cell_type": "markdown",
   "metadata": {},
   "source": [
    "`c`と`d`，どちらもint型のオブジェクトを表していますが，識別値はどちらも同じです．つまり，int型の場合もポインタ渡しになっています．\n",
    "\n",
    "しかし，以下の例ではリストと異なる挙動をしています：`d`に再代入しても`c`の値は変わっていません．そして`d`の識別値が変わっています．"
   ]
  },
  {
   "cell_type": "code",
   "execution_count": null,
   "metadata": {},
   "outputs": [],
   "source": [
    "d = 234\n",
    "print(c)\n",
    "print(id(c))\n",
    "print(id(d))"
   ]
  },
  {
   "cell_type": "markdown",
   "metadata": {},
   "source": [
    "この挙動の違いはmutable（可変）なオブジェクトなのか，immutable（不可変）なオブジェクトなのか，にあります．\n",
    "\n",
    "リストはmutable（可変な）オブジェクトであり，名前の通り変更可能なオブジェクトです．一度作られたオブジェクトの中身を変更・操作することができます．\n",
    "\n",
    "一方，数値・文字列はimmutable（非可変な）オブジェクトであり，変更が不可能なオブジェクトです．既に定義されたimmutableなオブジェクトのポインタを持つ変数に，再度（同じ型の）値を代入しようとすると，**新たにオブジェクトが作成**され，変数はそちらを指すようになります．つまり，`d=234`という式は，一見すると「変数`d`の中身を`234`に変える=変数`d`の指すオブジェクトの持つ値を`234`に変える」ように見えますが，実際は「`234`という値を持つオブジェクトをメモリ上のどこかに作成し，その識別値（ポインタ）を`d`に渡す」という処理になっています．\n",
    "2年生のC言語を用いた計算機プログラミング演習では，「変数は箱」と教わったかもしれません．しかし，Pythonにおいては，**変数は箱というよりは「ラベル」**\n",
    "と考えた方が良いでしょう（Java言語における参照型変数と同じです）．\n",
    "\n",
    "\n",
    "よく分からないという人は，これは半分間違いですが，挙動としては「mutableなオブジェクト（リスト等）はポインタ渡し」「immutableなオブジェクト（数値型・文字列）は値渡し，immutableなオブジェクトでリストのようなものは再代入はできるが中身の変更はできない」と考えれば良いです．"
   ]
  },
  {
   "cell_type": "markdown",
   "metadata": {},
   "source": [
    "int型の`c`と`d`の例のように，`b`に`a`が表すリストの値をコピーしたいときは，例えばスライスを用いて次のように書けます．\n",
    "結果から分かるように，コピーが作成され代入されているため，`a`と`b`の識別値は異なり，異なるオブジェクトを指しています．そのため，`b`の中身を操作しても`a`の中身は変更されていません．"
   ]
  },
  {
   "cell_type": "code",
   "execution_count": null,
   "metadata": {},
   "outputs": [],
   "source": [
    "a = [1, 2, 3]\n",
    "b = a[:]\n",
    "print(id(a))\n",
    "print(id(b))\n",
    "\n",
    "b[0] = 0\n",
    "print(a, b)\n",
    "print(id(a))\n",
    "print(id(b))"
   ]
  },
  {
   "cell_type": "markdown",
   "metadata": {},
   "source": [
    "リストのようなシーケンスを扱うデータ構造で，immutableなものがタプル（tuple）です．気になる人は調べてみてください．\n",
    "\n",
    "細かい話はここまでにして，次は文字列型を紹介します．"
   ]
  },
  {
   "cell_type": "markdown",
   "metadata": {},
   "source": [
    "### 1.2.3 文字列（string）"
   ]
  },
  {
   "cell_type": "markdown",
   "metadata": {},
   "source": [
    "Pythonで文字列型（str型）を扱うには，`' '`か`\" \"`で囲みます．"
   ]
  },
  {
   "cell_type": "code",
   "execution_count": null,
   "metadata": {},
   "outputs": [],
   "source": [
    "hoge = 'hogehoge'\n",
    "print(hoge)\n",
    "print(type(hoge))\n",
    "\n",
    "fuga = \"fugafuga\"\n",
    "print(fuga)\n",
    "print(type(fuga))"
   ]
  },
  {
   "cell_type": "markdown",
   "metadata": {},
   "source": [
    "文字列はインデックスを指定して文字を取得できます．Pythonでは文字を表すデータ型は用意されておらず，文字は長さ1の文字列です．文字列の長さは`len()`関数で得られます．"
   ]
  },
  {
   "cell_type": "code",
   "execution_count": null,
   "metadata": {},
   "outputs": [],
   "source": [
    "print(hoge[3])\n",
    "print(type(hoge[3]))\n",
    "print(hoge[3:5])\n",
    "\n",
    "# 文字列の長さ\n",
    "print(len(hoge))"
   ]
  },
  {
   "cell_type": "markdown",
   "metadata": {},
   "source": [
    "次のようにint型からstr型にキャストできます．"
   ]
  },
  {
   "cell_type": "code",
   "execution_count": null,
   "metadata": {},
   "outputs": [],
   "source": [
    "num = 12345\n",
    "print(type(num))\n",
    "\n",
    "strnum = str(num)\n",
    "print(type(strnum))"
   ]
  },
  {
   "cell_type": "markdown",
   "metadata": {},
   "source": [
    "文字列はimmutableなオブジェクトです．そのため，オブジェクトの変更操作はできません．例えば，先ほど定義した文字列型の変数`hoge`の2番目の要素を変更しようとするとエラーとなります．"
   ]
  },
  {
   "cell_type": "code",
   "execution_count": null,
   "metadata": {},
   "outputs": [],
   "source": [
    "hoge[2] = 'a'"
   ]
  },
  {
   "cell_type": "markdown",
   "metadata": {},
   "source": [
    "新たに文字列型の変数を代入すること自体は問題なくできます．その場合，オブジェクトの識別値（ポインタ）は変わります．"
   ]
  },
  {
   "cell_type": "code",
   "execution_count": null,
   "metadata": {},
   "outputs": [],
   "source": [
    "print(id(hoge))\n",
    "hoge = 'fugafuga'\n",
    "print(id(hoge))"
   ]
  },
  {
   "cell_type": "markdown",
   "metadata": {},
   "source": [
    "Pythonの文字列型は非常に柔軟な演算をサポートしています．例えば，`+`で連結，`*`で繰り返し，`split`で分割，等があります．"
   ]
  },
  {
   "cell_type": "code",
   "execution_count": null,
   "metadata": {},
   "outputs": [],
   "source": [
    "hoge = 'hoge'\n",
    "fuga = 'fuga'\n",
    "hogefuga = hoge + fuga # hogeとfugaを連結\n",
    "print(hogefuga)\n",
    "hogehogehoge = hoge*3 # hogeを3回繰り返す\n",
    "print(hogehogehoge)\n",
    "hoge_fuga_hoge = 'hoge_fuga_hoge'\n",
    "print(hoge_fuga_hoge.split('_')) # _ で分割"
   ]
  },
  {
   "cell_type": "markdown",
   "metadata": {},
   "source": [
    "`print`文と合せて良く使われるものとして`format`メソッドがあります．`format`によって，変数と文字列を上手く連結させることができます．\n",
    "`format`は，`文字列.format(変数0, 変数1, 変数2, ...)`というように使います．`文字列`の中に`{}`が含まれている場合，その位置に変数が順に挿入されます．`{番号}`とすることで，挿入する変数を指定することもできます．他にも（小数点の桁の指定等）機能はありますが，詳しくは調べてみてください．"
   ]
  },
  {
   "cell_type": "code",
   "execution_count": null,
   "metadata": {},
   "outputs": [],
   "source": [
    "print(\"1+1は\"+str(2)+\"，1+2は\"+str(3))\n",
    "print(\"1+1は{}，1+2は{}\".format(2,3)) # 上と同じだがこちらの方が分かりやすく柔軟\n",
    "print(\"1+2は{1}，1+1は{0}\".format(2,3)) # 最初の{}には1番目の値=3を，二番目の{}には0番目の値=2を入れる"
   ]
  },
  {
   "cell_type": "markdown",
   "metadata": {
    "toc-hr-collapsed": true
   },
   "source": [
    "## 1.3 制御フローツール\n",
    "Pythonでは**ifやforに続く行はインデントされてなければなりません．**\n",
    "もっと一般には，**Pythonではインデントを用いてブロックが表現されます．**"
   ]
  },
  {
   "cell_type": "markdown",
   "metadata": {},
   "source": [
    "### 1.3.1 if文\n",
    "if文は次のように書きます．\n"
   ]
  },
  {
   "cell_type": "code",
   "execution_count": null,
   "metadata": {},
   "outputs": [],
   "source": [
    "x = 123\n",
    "\n",
    "if x < 0:\n",
    "    print('negative')\n",
    "else:\n",
    "    print('non negative')"
   ]
  },
  {
   "cell_type": "code",
   "execution_count": null,
   "metadata": {},
   "outputs": [],
   "source": [
    "n = 100\n",
    "\n",
    "if n % 3 == 0 and n % 5 == 0: # and, orを使う\n",
    "    print('fizzbuzz')\n",
    "elif n % 3 == 0:\n",
    "    print('fizz')\n",
    "elif n % 5 == 0:\n",
    "    print('buzz')\n",
    "else:\n",
    "    print('')"
   ]
  },
  {
   "cell_type": "markdown",
   "metadata": {},
   "source": [
    "### 1.3.2 for文, while文"
   ]
  },
  {
   "cell_type": "markdown",
   "metadata": {},
   "source": [
    "Pythonでのfor文を用いた反復は以下のように書きます．"
   ]
  },
  {
   "cell_type": "code",
   "execution_count": null,
   "metadata": {},
   "outputs": [],
   "source": [
    "for i in range(5):\n",
    "    print(i)"
   ]
  },
  {
   "cell_type": "code",
   "execution_count": null,
   "metadata": {},
   "outputs": [],
   "source": [
    "for i in range(5,10):\n",
    "    print(i)"
   ]
  },
  {
   "cell_type": "markdown",
   "metadata": {},
   "source": [
    "Pythonのfor文は柔軟です．リスト，または文字列に渡って反復を行うこと（リストの中身を順に取り出すこと）も可能です．"
   ]
  },
  {
   "cell_type": "code",
   "execution_count": null,
   "metadata": {},
   "outputs": [],
   "source": [
    "hoge = 'hogefuga'\n",
    "for w in hoge: # 'hogefuga'から一文字ずつ順に取り出す\n",
    "    print(w)\n",
    "# 以下のように書いても同じ\n",
    "for i in range(len(w)):\n",
    "    print(w[i])"
   ]
  },
  {
   "cell_type": "code",
   "execution_count": null,
   "metadata": {},
   "outputs": [],
   "source": [
    "seq = [1, 2, 3]\n",
    "for s in seq:\n",
    "    print(2 ** s)"
   ]
  },
  {
   "cell_type": "markdown",
   "metadata": {},
   "source": [
    "他にも`zip`や`enumerate`という機能もあります．詳しくは調べてみてください．"
   ]
  },
  {
   "cell_type": "markdown",
   "metadata": {},
   "source": [
    "n番目のフィボナッチ数を求めてみましょう．"
   ]
  },
  {
   "cell_type": "code",
   "execution_count": null,
   "metadata": {},
   "outputs": [],
   "source": [
    "n = 10 # nは2以上\n",
    "\n",
    "fibo = [0, 1]\n",
    "for i in range(n-1):\n",
    "    fibo.append(fibo[i] + fibo[i+1])\n",
    "\n",
    "print('fibonacci {}'.format(fibo)) # {}がformat()の引数に置き換えられます"
   ]
  },
  {
   "cell_type": "markdown",
   "metadata": {},
   "source": [
    "while文は条件式が`True`のときに反復します．\n",
    "while文を使って $\\log(x) = 0$ を解いてみましょう．"
   ]
  },
  {
   "cell_type": "code",
   "execution_count": null,
   "metadata": {},
   "outputs": [],
   "source": [
    "from math import log # mathモジュールからlog関数をimport(後で説明します）\n",
    "\n",
    "epsilon = 0.00001\n",
    "x1 = 0.01\n",
    "x2 = 1000\n",
    "\n",
    "# while文は条件がTrueのときに反復する\n",
    "while abs(x1 - x2) > epsilon: # absは絶対値を返す関数\n",
    "    x3 = (x1 + x2) / 2\n",
    "    if log(x3) * log(x1) < 0:\n",
    "        x2 = x3\n",
    "    else:\n",
    "        x1 = x3 \n",
    "print(x3)"
   ]
  },
  {
   "cell_type": "code",
   "execution_count": null,
   "metadata": {},
   "outputs": [],
   "source": []
  },
  {
   "cell_type": "markdown",
   "metadata": {},
   "source": [
    " ## 1.4 関数"
   ]
  },
  {
   "cell_type": "markdown",
   "metadata": {},
   "source": [
    "関数は以下のように書きます．"
   ]
  },
  {
   "cell_type": "code",
   "execution_count": null,
   "metadata": {},
   "outputs": [],
   "source": [
    "def get_fibo(num):\n",
    "    if num == 0:\n",
    "        return 0\n",
    "    elif num == 1:\n",
    "        return 1\n",
    "    else:\n",
    "        return get_fibo(num - 1) + get_fibo(num - 2)"
   ]
  },
  {
   "cell_type": "markdown",
   "metadata": {},
   "source": [
    "これはフィボナッチ数を再帰的に求める関数です．`def` は関数の 定義 (definition) を導くキーワードです． `def` の後には，関数名と仮引数を丸括弧で囲んだリストを続けます．関数の実体を構成する実行文は次の行から始め，インデントされていなければなりません．引数の型や関数の返り値の型は指定しません．関数は以下のように呼び出します．"
   ]
  },
  {
   "cell_type": "code",
   "execution_count": null,
   "metadata": {},
   "outputs": [],
   "source": [
    "print(get_fibo(10))"
   ]
  },
  {
   "cell_type": "markdown",
   "metadata": {},
   "source": [
    "引数や`return`文を持たない関数も定義可能です．"
   ]
  },
  {
   "cell_type": "markdown",
   "metadata": {},
   "source": [
    "可変個の引数を伴う関数を定義することもできます．もっとも便利なのは，一つ以上の引数に対してデフォルトの値を指定する形式です．この形式を使うと，定義されている引数より少ない個数の引数で呼び出せる関数を作成します．"
   ]
  },
  {
   "cell_type": "code",
   "execution_count": null,
   "metadata": {},
   "outputs": [],
   "source": [
    "def shop(kind, keeper='Bob', client='Alice'):\n",
    "    print(\"-- Do you have any\", kind, \"?\")\n",
    "    print(\"-- I'm sorry, we're all out of\", kind)\n",
    "    print(\"-\" * 40)\n",
    "    print('shopkeeper: ', keeper)\n",
    "    print('client: ', client)"
   ]
  },
  {
   "cell_type": "markdown",
   "metadata": {},
   "source": [
    "例えば次のような関数呼び出しの仕方があります．"
   ]
  },
  {
   "cell_type": "code",
   "execution_count": null,
   "metadata": {},
   "outputs": [],
   "source": [
    "shop('food')"
   ]
  },
  {
   "cell_type": "code",
   "execution_count": null,
   "metadata": {},
   "outputs": [],
   "source": [
    "shop('food', keeper='John')"
   ]
  },
  {
   "cell_type": "code",
   "execution_count": null,
   "metadata": {},
   "outputs": [],
   "source": [
    "shop('food', client='Oyama')"
   ]
  },
  {
   "cell_type": "markdown",
   "metadata": {},
   "source": [
    "$\\log(x) = a$ を解く処理を関数化し，`a`と`epsilon`を指定できるようにします．ただし`epsilon`はデフォルトの値が割り当てられています．"
   ]
  },
  {
   "cell_type": "code",
   "execution_count": null,
   "metadata": {},
   "outputs": [],
   "source": [
    "# solve log(x) = a\n",
    "def solve_log(a, epsilon=0.01):  \n",
    "    x1 = 100000\n",
    "    x2 = 0.0001\n",
    "    while abs(x1 - x2) > epsilon:\n",
    "        x3 = (x1 + x2) /2\n",
    "        if (log(x3)-a) * (log(x1)-a) < 0:\n",
    "            x2 = x3\n",
    "        else:\n",
    "            x1 = x3 \n",
    "    return x3"
   ]
  },
  {
   "cell_type": "code",
   "execution_count": null,
   "metadata": {},
   "outputs": [],
   "source": [
    "print(log(solve_log(2)))\n",
    "print(log(solve_log(2, epsilon=0.0000001)))"
   ]
  },
  {
   "cell_type": "markdown",
   "metadata": {},
   "source": [
    "## 1.5 データ構造（辞書）\n"
   ]
  },
  {
   "cell_type": "markdown",
   "metadata": {},
   "source": [
    "Pythonの有用なデータ構造，辞書型（dict型）を紹介します．\n",
    "ある範囲の数でインデクス化されているシーケンス（リストなど）と異なり，**辞書は キー (key) でインデクス化されています**．つまり，リスト等では数字で要素にアクセスしますが，辞書では数字に限らず文字列等で要素にアクセスすることを可能にします．辞書は キー（key）: 値（value）のペアの集合であり，キーが（辞書の中で）一意でなければならない，と考えるとよいでしょう．波括弧（brace）のペア｛｝は空の辞書を生成します．カンマで区切られた key: value のペアを波括弧ペアの間に入れると，辞書の初期値となる key: value が追加されます．\n",
    "\n",
    "辞書での主な操作は，ある値を何らかのキーを付けて記憶することと，キーを指定して値を取り出すことです． "
   ]
  },
  {
   "cell_type": "code",
   "execution_count": null,
   "metadata": {},
   "outputs": [],
   "source": [
    "tel_num = {'jack': 4098, 'sape': 4139}\n",
    "print(tel_num)\n",
    "\n",
    "tel_num['bob'] = 4087 # bobをkeyとして4087を記憶\n",
    "print(tel_num)\n",
    "\n",
    "print(tel_num['jack']) # keyを指定して値を取り出す"
   ]
  },
  {
   "cell_type": "markdown",
   "metadata": {},
   "source": [
    "辞書オブジェクトに対し`list(d)`を実行すると，辞書で使われている全てのキーからなるリストをキーが挿入された順番で返します ．ある単一のキーが辞書にあるかどうか調べるには`in`キーワードを使います．"
   ]
  },
  {
   "cell_type": "code",
   "execution_count": null,
   "metadata": {},
   "outputs": [],
   "source": [
    "print(list(tel_num))"
   ]
  },
  {
   "cell_type": "code",
   "execution_count": null,
   "metadata": {},
   "outputs": [],
   "source": [
    "'bob' in tel_num"
   ]
  },
  {
   "cell_type": "code",
   "execution_count": null,
   "metadata": {},
   "outputs": [],
   "source": [
    "'alice' in tel_num"
   ]
  },
  {
   "cell_type": "markdown",
   "metadata": {},
   "source": [
    "辞書を使ってアルファベットの出現回数を数えてみましょう．"
   ]
  },
  {
   "cell_type": "code",
   "execution_count": null,
   "metadata": {},
   "outputs": [],
   "source": [
    "chars = 'akdnogkncdoksndfongdnjdsonfnanaakdokfniiewoq'\n",
    "char_count = {}\n",
    "for c in chars:\n",
    "    if c not in char_count: # 比較演算子 in / not inはある要素がシーケンス（リストなど）に含まれるかを調べる\n",
    "        char_count[c] = 1\n",
    "    else:\n",
    "        char_count[c] += 1\n",
    "\n",
    "print(char_count)"
   ]
  },
  {
   "cell_type": "markdown",
   "metadata": {
    "toc-hr-collapsed": true
   },
   "source": [
    "## 1.6 モジュール・ライブラリ"
   ]
  },
  {
   "cell_type": "markdown",
   "metadata": {},
   "source": [
    "モジュールは Python の関数・クラスの定義や文が入ったファイルです．ファイル名はモジュール名に接尾語`.py`がついたものになります．それを他のスクリプトやインタプリタの対話モード等に利用することができます．また，複数のモジュールで構成されたものをライブラリ（パッケージ）と呼びます．ここでは自作モジュールの作り方，使い方には触れず，モジュール・ライブラリの`import`の仕方を紹介します．"
   ]
  },
  {
   "cell_type": "markdown",
   "metadata": {},
   "source": [
    "モジュールをインポートするには`import <module>`とします．モジュール内の関数・クラス等にアクセスするには`<module>.<関数>`とします．"
   ]
  },
  {
   "cell_type": "code",
   "execution_count": null,
   "metadata": {},
   "outputs": [],
   "source": [
    "import math\n",
    "\n",
    "print(math.cos(1))\n",
    "print(math.pi)"
   ]
  },
  {
   "cell_type": "markdown",
   "metadata": {},
   "source": [
    "`math`モジュールは，浮動小数点演算のための C 言語ライブラリ関数にアクセスする手段を提供しています．"
   ]
  },
  {
   "cell_type": "markdown",
   "metadata": {},
   "source": [
    "モジュールの特定のクラスや関数のみを使いたい場合は`from`を使います．"
   ]
  },
  {
   "cell_type": "code",
   "execution_count": null,
   "metadata": {},
   "outputs": [],
   "source": [
    "from math import exp\n",
    "\n",
    "exp(1)"
   ]
  },
  {
   "cell_type": "markdown",
   "metadata": {},
   "source": [
    "別名をつけてインポートしたい場合は`as`を使います．"
   ]
  },
  {
   "cell_type": "code",
   "execution_count": null,
   "metadata": {},
   "outputs": [],
   "source": [
    "import math as mt\n",
    "\n",
    "mt.pi"
   ]
  },
  {
   "cell_type": "markdown",
   "metadata": {},
   "source": [
    "この演習では，科学技術計算ライブラリNumPy/SciPyと機械学習ライブラリscikit-learnを主に使うことになります．"
   ]
  },
  {
   "cell_type": "markdown",
   "metadata": {},
   "source": [
    "## 1.7 クラス・オブジェクト"
   ]
  },
  {
   "cell_type": "markdown",
   "metadata": {},
   "source": [
    "pythonはオブジェクト指向プログラミングをサポートしており，Javaのようなプログラミング言語と同様に**オブジェクト指向で記述することができます**．\n",
    "ここではPythonでの**クラス**の定義の仕方を簡単に紹介します．"
   ]
  },
  {
   "cell_type": "markdown",
   "metadata": {},
   "source": [
    "pythonにおけるクラスオブジェクト定義の基本的な構文は以下のようになります．`class`はクラスの定義を導きます．"
   ]
  },
  {
   "cell_type": "code",
   "execution_count": null,
   "metadata": {},
   "outputs": [],
   "source": [
    "class className():\n",
    "    \n",
    "    class_data = 2 # クラス変数 \n",
    "    \n",
    "    def __init__(self, aug): \n",
    "        self.data = aug # インスタンス変数\n",
    "        \n",
    "    def func(self, x):\n",
    "        return x**self.class_data * self.data"
   ]
  },
  {
   "cell_type": "markdown",
   "metadata": {},
   "source": [
    "メソッド（関数）`__init__()` は**コンストラクタ**です．クラスの新しいインスタンスを生成するとき`__init__()`が呼び出されます．多くの場合，変数や外部で定義された関数などをここで定義しておきます．`self`はJavaにおける`this`で，インスタンス自身を指すものです．\n",
    "\n",
    "インスタンス変数はそれぞれのインスタンスについて固有のデータのためのもので，クラス変数はそのクラスのすべてのインスタンスによって共有される属性やメソッドのためのものです(なのでクラス変数ではmutableオブジェクトは避けるべきです)．\n",
    "\n",
    "\n",
    "ではインスタンスを生成してみましょう．"
   ]
  },
  {
   "cell_type": "code",
   "execution_count": null,
   "metadata": {},
   "outputs": [],
   "source": [
    "a = className(100)\n",
    "b = className(10)"
   ]
  },
  {
   "cell_type": "markdown",
   "metadata": {},
   "source": [
    "クラスの変数やメソッドには次のようにアクセスできます．"
   ]
  },
  {
   "cell_type": "code",
   "execution_count": null,
   "metadata": {},
   "outputs": [],
   "source": [
    "print(a.data, b.data) # インスタンス変数なので異なる\n",
    "print(a.class_data, b.class_data) # クラス変数なので同じ"
   ]
  },
  {
   "cell_type": "code",
   "execution_count": null,
   "metadata": {},
   "outputs": [],
   "source": [
    "a.func(100)"
   ]
  },
  {
   "cell_type": "code",
   "execution_count": null,
   "metadata": {},
   "outputs": [],
   "source": []
  }
 ],
 "metadata": {
  "anaconda-cloud": {},
  "interpreter": {
   "hash": "916dbcbb3f70747c44a77c7bcd40155683ae19c65e1c03b4aa3499c5328201f1"
  },
  "kernelspec": {
   "display_name": "Python 3.8.10 64-bit",
   "language": "python",
   "name": "python3"
  },
  "language_info": {
   "codemirror_mode": {
    "name": "ipython",
    "version": 3
   },
   "file_extension": ".py",
   "mimetype": "text/x-python",
   "name": "python",
   "nbconvert_exporter": "python",
   "pygments_lexer": "ipython3",
   "version": "3.8.10"
  }
 },
 "nbformat": 4,
 "nbformat_minor": 4
}
